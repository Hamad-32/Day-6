{
 "cells": [
  {
   "cell_type": "code",
   "execution_count": 2,
   "id": "212fd1ba",
   "metadata": {},
   "outputs": [],
   "source": [
    "import numpy as np"
   ]
  },
  {
   "cell_type": "markdown",
   "id": "10803eb0",
   "metadata": {},
   "source": [
    "## Q#1: Create x array with elements equal to 1."
   ]
  },
  {
   "cell_type": "code",
   "execution_count": 3,
   "id": "3307454f",
   "metadata": {},
   "outputs": [
    {
     "data": {
      "text/plain": [
       "array([1., 1.])"
      ]
     },
     "execution_count": 3,
     "metadata": {},
     "output_type": "execute_result"
    }
   ],
   "source": [
    "# We use a ones funcrion to return ones elements and pass 2 that mean we need 2 elements in the array \n",
    "x = np.ones(2)\n",
    "x"
   ]
  },
  {
   "cell_type": "markdown",
   "id": "7795306d",
   "metadata": {},
   "source": [
    "## Q#2: Create y array with elements equal to 0."
   ]
  },
  {
   "cell_type": "code",
   "execution_count": 5,
   "id": "9550b063",
   "metadata": {},
   "outputs": [
    {
     "data": {
      "text/plain": [
       "array([0., 0.])"
      ]
     },
     "execution_count": 5,
     "metadata": {},
     "output_type": "execute_result"
    }
   ],
   "source": [
    "# We use a Zeros funcrion to return zeros elements and pass 2 that mean we need 2 elements in the array \n",
    "y = np.zeros(2)\n",
    "y"
   ]
  },
  {
   "cell_type": "markdown",
   "id": "cde6a939",
   "metadata": {},
   "source": [
    "## Q#3: Add x and y arrays."
   ]
  },
  {
   "cell_type": "code",
   "execution_count": 6,
   "id": "71070d1d",
   "metadata": {},
   "outputs": [
    {
     "data": {
      "text/plain": [
       "array([1., 1.])"
      ]
     },
     "execution_count": 6,
     "metadata": {},
     "output_type": "execute_result"
    }
   ],
   "source": [
    "# To add to arrays we just ues + operation\n",
    "x + y"
   ]
  },
  {
   "cell_type": "markdown",
   "id": "ed854f4c",
   "metadata": {},
   "source": [
    "## Q#4: Print x array characteristics (e.g: dimension, shape, size, type)."
   ]
  },
  {
   "cell_type": "code",
   "execution_count": 13,
   "id": "32627c83",
   "metadata": {},
   "outputs": [
    {
     "name": "stdout",
     "output_type": "stream",
     "text": [
      "The number of Dimension: 1\n",
      "The Shape is: (2,)\n",
      "The Size is: 2\n",
      "The Data Type is: float64\n"
     ]
    }
   ],
   "source": [
    "# We use ndim attribute that returns an integer that tells us how many dimensions the array have.\n",
    "print(f\"The number of Dimension: {x.ndim}\")\n",
    "# And use shape attribute to get the shape info \n",
    "print(f\"The Shape is: {x.shape}\")\n",
    "# To get the size we use size attribute to get the shape info \n",
    "print(f\"The Size is: {x.size}\")\n",
    "# We use dtype that returns the data type of the array\n",
    "print(f\"The Data Type is: {x.dtype}\")"
   ]
  },
  {
   "cell_type": "markdown",
   "id": "dbd46a73",
   "metadata": {},
   "source": [
    "## Q#5: Create a 2D array \"called w\" as the following:\n",
    "\n",
    "|       |          |\n",
    "| ----- | -------- |\n",
    "| 11    | 12       |\n",
    "| 13    | 14       |\n",
    "| 15    | 16       |\n"
   ]
  },
  {
   "cell_type": "code",
   "execution_count": 17,
   "id": "b9c7bbb0",
   "metadata": {},
   "outputs": [
    {
     "data": {
      "text/plain": [
       "array([[11, 12],\n",
       "       [13, 14],\n",
       "       [15, 16]])"
      ]
     },
     "execution_count": 17,
     "metadata": {},
     "output_type": "execute_result"
    }
   ],
   "source": [
    "# We Creat a 2D arry using [[row1],[row2],[row3]]\n",
    "w = np.array([[11,12],[13,14],[15,16]])\n",
    "w"
   ]
  },
  {
   "cell_type": "markdown",
   "id": "0e62bd09",
   "metadata": {},
   "source": [
    "## Q#6: Create z array contains the numbers from 1 to 3."
   ]
  },
  {
   "cell_type": "code",
   "execution_count": 22,
   "id": "cee8aba0",
   "metadata": {},
   "outputs": [
    {
     "data": {
      "text/plain": [
       "array([1, 2, 3])"
      ]
     },
     "execution_count": 22,
     "metadata": {},
     "output_type": "execute_result"
    }
   ],
   "source": [
    "# We use arange function to return a numbers from 1 to 3\n",
    "z = np.arange(1,4)   # np.arange(start_num,stop_num) \n",
    "z"
   ]
  },
  {
   "cell_type": "markdown",
   "id": "32b00711",
   "metadata": {},
   "source": [
    "## Q#7: Combine the arrays z and w in horizontal way then save it in a new variable \"newArray\"."
   ]
  },
  {
   "cell_type": "code",
   "execution_count": 34,
   "id": "d218f892",
   "metadata": {},
   "outputs": [
    {
     "data": {
      "text/plain": [
       "array([[ 1, 11, 12],\n",
       "       [ 2, 13, 14],\n",
       "       [ 3, 15, 16]])"
      ]
     },
     "execution_count": 34,
     "metadata": {},
     "output_type": "execute_result"
    }
   ],
   "source": [
    "# We use a hstack function to combine tow arrys horizontal\n",
    "\n",
    "# newArry = np.hstack((z,w))\n",
    "\n",
    "## The will sohw in Error becuse all arrays must have the same number of dimensions \n",
    "### W is 2D array \n",
    "### Z is 1D array\n",
    "\n",
    "# To solve this we will reshape Z arry to be 2D array:\n",
    "z = z.reshape(3, 1)\n",
    "# Then try agine it will work \n",
    "newArry = np.hstack((z,w))\n",
    "newArry\n",
    "\n"
   ]
  },
  {
   "cell_type": "markdown",
   "id": "7e009910",
   "metadata": {},
   "source": [
    "## Q#8: Print all elements of \"newArray\" using the loop."
   ]
  },
  {
   "cell_type": "code",
   "execution_count": 41,
   "id": "abbed923",
   "metadata": {},
   "outputs": [
    {
     "name": "stdout",
     "output_type": "stream",
     "text": [
      "1\n",
      "11\n",
      "12\n",
      "2\n",
      "13\n",
      "14\n",
      "3\n",
      "15\n",
      "16\n"
     ]
    },
    {
     "data": {
      "text/plain": [
       "[None, None, None, None, None, None, None, None, None]"
      ]
     },
     "execution_count": 41,
     "metadata": {},
     "output_type": "execute_result"
    }
   ],
   "source": [
    "# We can use a simple loop in another loop\n",
    "# for x in newArry:\n",
    "#     for y in x:\n",
    "#         print(y)\n",
    "##\n",
    "\n",
    "## or we can use list comprehension to create a list and print it element by element\n",
    "[(print(y)) for x in newArry for y in x]"
   ]
  },
  {
   "cell_type": "markdown",
   "id": "011c6d2d",
   "metadata": {},
   "source": [
    "## Q#9: Reverse the columns and rows of \"newArray\"."
   ]
  },
  {
   "cell_type": "code",
   "execution_count": 43,
   "id": "12e3f0db",
   "metadata": {},
   "outputs": [
    {
     "data": {
      "text/plain": [
       "array([[ 1,  2,  3],\n",
       "       [11, 13, 15],\n",
       "       [12, 14, 16]])"
      ]
     },
     "execution_count": 43,
     "metadata": {},
     "output_type": "execute_result"
    }
   ],
   "source": [
    "# We will use T attribute to Reverse the columns and rows\n",
    "newArry.T"
   ]
  },
  {
   "cell_type": "markdown",
   "id": "f40b57c3",
   "metadata": {},
   "source": [
    "## Q#10: Decrement all elements of \"newArray\" with 1."
   ]
  },
  {
   "cell_type": "code",
   "execution_count": 61,
   "id": "aea004df",
   "metadata": {},
   "outputs": [],
   "source": [
    "# With simple way just i use - operation\n",
    "\n",
    "newArry = newArry - 1"
   ]
  },
  {
   "cell_type": "markdown",
   "id": "8901e8be",
   "metadata": {},
   "source": [
    "## Q#11: Find smallest and biggest values in \"newArray\"."
   ]
  },
  {
   "cell_type": "code",
   "execution_count": 62,
   "id": "4ea08613",
   "metadata": {},
   "outputs": [
    {
     "name": "stdout",
     "output_type": "stream",
     "text": [
      "0\n",
      "15\n"
     ]
    }
   ],
   "source": [
    "# Use a max(),min() functions to get the smallest and biggest values  \n",
    "print(newArry.min())\n",
    "\n",
    "print(newArry.max())"
   ]
  },
  {
   "cell_type": "markdown",
   "id": "c5d5d4ca",
   "metadata": {},
   "source": [
    "## Q#12: Print the first row of \"newArray\" using indexing."
   ]
  },
  {
   "cell_type": "code",
   "execution_count": 63,
   "id": "73e3b5a5",
   "metadata": {},
   "outputs": [
    {
     "name": "stdout",
     "output_type": "stream",
     "text": [
      "[ 0 10 11]\n"
     ]
    }
   ],
   "source": [
    "# When we access a array by indexing we can use: array_name[row,column]\n",
    "print(newArry[0])"
   ]
  },
  {
   "cell_type": "markdown",
   "id": "78f4d6c1",
   "metadata": {},
   "source": [
    "## Q#13: Print the number equals 12 of \"newArray\" using indexing."
   ]
  },
  {
   "cell_type": "code",
   "execution_count": 64,
   "id": "f1203390",
   "metadata": {},
   "outputs": [
    {
     "name": "stdout",
     "output_type": "stream",
     "text": [
      "[[ 0 10 11]\n",
      " [ 1 12 13]\n",
      " [ 2 14 15]]\n"
     ]
    }
   ],
   "source": [
    "print(newArry)"
   ]
  },
  {
   "cell_type": "code",
   "execution_count": 69,
   "id": "7ad660b7",
   "metadata": {},
   "outputs": [
    {
     "name": "stdout",
     "output_type": "stream",
     "text": [
      "12\n"
     ]
    }
   ],
   "source": [
    "# When we access a array by indexing we can use: array_name[row,column]\n",
    "\n",
    "print(newArry[1,1])"
   ]
  },
  {
   "cell_type": "markdown",
   "id": "932b5c3d",
   "metadata": {},
   "source": [
    "## Q#14: Print the numbers equal 0 and 13 of \"newArray\" using indexing."
   ]
  },
  {
   "cell_type": "code",
   "execution_count": 74,
   "id": "31fb5fd0",
   "metadata": {},
   "outputs": [
    {
     "name": "stdout",
     "output_type": "stream",
     "text": [
      "0\n",
      "13\n"
     ]
    }
   ],
   "source": [
    "# When we access a array by indexing we can use: array_name[row,column]\n",
    "\n",
    "print(newArry[0,0],)\n",
    "\n",
    "print(newArry[1,2])\n",
    "\n",
    "\n"
   ]
  },
  {
   "cell_type": "markdown",
   "id": "27e0f68e",
   "metadata": {},
   "source": [
    "## Q#15: Change the shape of \"newArray\" to (9,1)."
   ]
  },
  {
   "cell_type": "code",
   "execution_count": 77,
   "id": "35f224ad",
   "metadata": {},
   "outputs": [
    {
     "data": {
      "text/plain": [
       "array([[ 0],\n",
       "       [10],\n",
       "       [11],\n",
       "       [ 1],\n",
       "       [12],\n",
       "       [13],\n",
       "       [ 2],\n",
       "       [14],\n",
       "       [15]])"
      ]
     },
     "execution_count": 77,
     "metadata": {},
     "output_type": "execute_result"
    }
   ],
   "source": [
    "# Using reshape funtion \n",
    "newArry = newArry.reshape(9,1)\n",
    "newArry"
   ]
  },
  {
   "cell_type": "markdown",
   "id": "e6d104c5",
   "metadata": {},
   "source": [
    "## Q#16: Change the shape of \"newArray\" to (3,2)."
   ]
  },
  {
   "cell_type": "code",
   "execution_count": 78,
   "id": "724d51d5",
   "metadata": {},
   "outputs": [
    {
     "ename": "ValueError",
     "evalue": "cannot reshape array of size 9 into shape (3,2)",
     "output_type": "error",
     "traceback": [
      "\u001b[1;31m---------------------------------------------------------------------------\u001b[0m",
      "\u001b[1;31mValueError\u001b[0m                                Traceback (most recent call last)",
      "Cell \u001b[1;32mIn[78], line 2\u001b[0m\n\u001b[0;32m      1\u001b[0m \u001b[38;5;66;03m# write your code here ^_^\u001b[39;00m\n\u001b[1;32m----> 2\u001b[0m newArry \u001b[38;5;241m=\u001b[39m \u001b[43mnewArry\u001b[49m\u001b[38;5;241;43m.\u001b[39;49m\u001b[43mreshape\u001b[49m\u001b[43m(\u001b[49m\u001b[38;5;241;43m3\u001b[39;49m\u001b[43m,\u001b[49m\u001b[38;5;241;43m2\u001b[39;49m\u001b[43m)\u001b[49m\n\u001b[0;32m      3\u001b[0m newArry\n",
      "\u001b[1;31mValueError\u001b[0m: cannot reshape array of size 9 into shape (3,2)"
     ]
    }
   ],
   "source": [
    "# Reshaping newArray to (3,2) is not possible because it currently contains 9 elements.\n",
    "newArry = newArry.reshape(3,2)\n",
    "newArry"
   ]
  },
  {
   "cell_type": "markdown",
   "id": "09567fdc",
   "metadata": {},
   "source": [
    "# Well Done 🎉"
   ]
  }
 ],
 "metadata": {
  "kernelspec": {
   "display_name": "Python 3",
   "language": "python",
   "name": "python3"
  },
  "language_info": {
   "codemirror_mode": {
    "name": "ipython",
    "version": 3
   },
   "file_extension": ".py",
   "mimetype": "text/x-python",
   "name": "python",
   "nbconvert_exporter": "python",
   "pygments_lexer": "ipython3",
   "version": "3.10.11"
  }
 },
 "nbformat": 4,
 "nbformat_minor": 5
}
